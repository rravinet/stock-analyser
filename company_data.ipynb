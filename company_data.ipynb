{
 "cells": [
  {
   "cell_type": "code",
   "execution_count": 5,
   "metadata": {},
   "outputs": [],
   "source": [
    "#Imports \n",
    "\n",
    "import sys\n",
    "import os\n",
    "import yaml\n",
    "\n",
    "sys.path.append(os.getenv(\"CODE_PATH\"))\n",
    "sys.path.append(os.getenv(\"FIN_DATABASE_PATH\"))\n",
    "\n",
    "\n",
    "import plotly.graph_objects as go\n",
    "import pandas as pd\n",
    "import numpy as np\n",
    "from datetime import datetime, timedelta\n",
    "import logging\n",
    "import matplotlib.pyplot as plt\n",
    "from dotenv import load_dotenv\n",
    "from Data.connect import engine, DailyStockData, HourlyStockData, OneMinuteStockData, FiveMinuteStockData,FifteenMinuteStockData, StockSplits, StockNews, CompanyFinancials\n",
    "from Pre_Processing.pre_processing import PreProcessing\n",
    "from data_fetcher import DataFetcher\n",
    "from Feature_Engineering.feature_engineering import TechnicalIndicators\n",
    "from pipeline import Pipeline\n",
    "import json\n",
    "from pandas import json_normalize"
   ]
  },
  {
   "cell_type": "markdown",
   "metadata": {},
   "source": [
    "### Balance sheet is a snapshot of a company's assets, liabilities and equity, at a certain point in time.\n",
    "### The 3 main sections of a balance sheet are:\n",
    "    -Assets\n",
    "    -Liabilities\n",
    "    -Shareholder Equity"
   ]
  },
  {
   "cell_type": "code",
   "execution_count": 6,
   "metadata": {},
   "outputs": [],
   "source": [
    "GENERAL_COLUMNS = ['company_name', 'start_date', 'end_date', 'filing_date',\n",
    "       'fiscal_period', 'fiscal_year', 'acceptance_datetime',\n",
    "       'timeframe', 'tickers', 'sic']\n",
    "SECTIONS = ['balance_sheet', 'income_statement', 'cash_flow_statement', 'comprehensive_income']\n"
   ]
  },
  {
   "cell_type": "code",
   "execution_count": 7,
   "metadata": {},
   "outputs": [],
   "source": [
    "#Selecting some tickers to analyse\n",
    "tickers = ['AAPL', 'MSFT']"
   ]
  },
  {
   "cell_type": "code",
   "execution_count": 8,
   "metadata": {},
   "outputs": [],
   "source": [
    "#Fetching data from our SQL database\n",
    "fetch_data = DataFetcher(tickers)\n",
    "company_data = fetch_data.get_company_data()"
   ]
  },
  {
   "cell_type": "code",
   "execution_count": 9,
   "metadata": {},
   "outputs": [],
   "source": [
    "class PreProcessingFinancials:\n",
    "    def __init__(self, data, sections, tickers):\n",
    "        \"\"\"\n",
    "        args: \n",
    "        data: dictionary with multiple tickers\n",
    "        sections: list with sections from a Financial Statement\n",
    "        tickers: list with tickers we want to analyse\n",
    "        \"\"\"\n",
    "        if isinstance(data,pd.DataFrame): #If we pass only one ticker, which would be only one dataframe, we transform into a dictionary.\n",
    "            self.data = {}\n",
    "            self.data[tickers] = data\n",
    "            self.tickers = [tickers]\n",
    "        else:\n",
    "            self.data = data\n",
    "            self.tickers = tickers \n",
    "        self.sections = sections\n",
    "        \n",
    "    def adjust_data(self, data):\n",
    "        \"\"\"Adjusting filling date for TTM, Q4, FY, as they don't have any filing dates.\n",
    "        Using as a proxy the end date of the period plus 37 days, which is the average time it takes to file the 10-K/10-Q.\"\"\"\n",
    "        conditions = (\n",
    "            (data['filing_date'].isna()) &\n",
    "            (data['fiscal_period'].isin(['TTM', 'Q4', 'FY']))\n",
    "                        )\n",
    "    \n",
    "        data['filing_date'] = np.where(conditions, data['end_date'] + timedelta(days=37), data['filing_date'])\n",
    "      \n",
    "        return data\n",
    "    \n",
    "    def replacing_nan(self,data):\n",
    "        \"\"\"Replace NaN values in the fiscal year column with the correct date.\"\"\"\n",
    "        data['period'] = np.where(data['fiscal_'])\n",
    "        \n",
    "    \n",
    "    def flatten_json_section(self):\n",
    "        \"\"\"Preprocess the financials column by flattening JSON fields and handling filing dates/fiscal periods.\"\"\"\n",
    "        for ticker in self.tickers:\n",
    "            data = self.data[ticker]\n",
    "            \n",
    "            # Converting JSON strings into Python dictionaries if necessary\n",
    "            data['financials'] = data['financials'].apply(\n",
    "                lambda x: json.loads(x) if isinstance(x, str) else x\n",
    "            )\n",
    "\n",
    "            # Flattening each section and concatenate with the main dataframe\n",
    "            for section in self.sections:\n",
    "                flattened = self.flattening(data, 'financials', section)\n",
    "                data = pd.concat([data, flattened], axis=1)\n",
    "\n",
    "            # Handle filing dates and fiscal periods\n",
    "            data['filing_date'] = pd.to_datetime(data['filing_date'])\n",
    "\n",
    "            #Adjust filing dates before setting index\n",
    "            data = self.adjust_data(data)\n",
    "\n",
    "            #Sort by filing date \n",
    "            data.sort_values(by='filing_date', inplace=True, ascending=False)\n",
    "\n",
    "            self.data[ticker] = data\n",
    "    \n",
    "    \n",
    "    \n",
    "    def flattening(self, data, json_col, section):\n",
    "        \"\"\" Helper function to flatten a JSON section of the financials dataframe\n",
    "        \"\"\"\n",
    "        section_data = data[json_col].apply(lambda x: x.get(section) if section in x else {})\n",
    "        flattened_section = json_normalize(section_data)  # Flatten the section\n",
    "        flattened_section.columns = [f\"{section}_{col}\" for col in flattened_section.columns]  # Add prefix to columns\n",
    "                \n",
    "        return flattened_section\n",
    "\n",
    "    \n",
    "    def removing_cols(self):\n",
    "        \"\"\" This function cleans the dataframe by dropping columns with '.unit' in the name and '.order' in the name.\n",
    "        If .unit columns are the same for each row, we will drop.\n",
    "        Also dropping columns that have .order\n",
    "        \"\"\"\n",
    "        \n",
    "        for ticker in self.tickers:\n",
    "            data = self.data[ticker]\n",
    "            # print(f'Processing ticker {ticker}')\n",
    "            for section in self.sections:\n",
    "                section_columns = [col for col in data.columns if section in col]\n",
    "                section_df = data[section_columns].copy()\n",
    "            \n",
    "                #Removing .order columns\n",
    "                order_columns = [col for col in section_df.columns if '.order' in col]\n",
    "                # if order_columns:\n",
    "                #     print(f\"Found '.order' columns for {ticker} in {section}: {order_columns}\")  # Debugging\n",
    "                # else:\n",
    "                #     print(f\"No '.order' columns found for {ticker} in {section}\") \n",
    "                section_df.drop(columns=order_columns, inplace=True)\n",
    "                \n",
    "                #Removing .unit columns if they only have one unique value\n",
    "                unit_columns = [col for col in section_df.columns if '.unit' in col]\n",
    "                # print(f\"Found '.unit' columns for {ticker} in {section}: {unit_columns}\")  # Debugging\n",
    " \n",
    "                for col in unit_columns:\n",
    "                    if section_df[col].nunique() == 1:\n",
    "                        section_df.drop(columns=col, inplace=True)\n",
    "        \n",
    "                \n",
    "                label_columns = [col for col in section_df.columns if '.label' in col]\n",
    "                section_df.drop(columns=label_columns, inplace=True)\n",
    "                \n",
    "                \n",
    "                #Converting numeric values to millions\n",
    "                value_columns = [col for col in section_df.columns if '.value' in col]\n",
    "                for col in value_columns:\n",
    "                    section_df[col] = pd.to_numeric(section_df[col])\n",
    "                    section_df[col] = section_df[col]/1000000\n",
    "                    # print(f\"Converted {col} to millions for {ticker} in {section}\")  # Debugging\n",
    "                data.drop(columns=section_columns, inplace=True)  # Remove the original section columns\n",
    "                data = pd.concat([data, section_df], axis=1)\n",
    "               \n",
    "            self.data[ticker] = data\n",
    "    \n",
    "    def transform_columns(self, data):\n",
    "        \"\"\"Transform data column data into required type\"\"\"\n",
    "        \n",
    "        # Replacing empty strings with np.nan in the entire dataframe at once\n",
    "        data.replace('', np.nan, inplace=True)\n",
    "        \n",
    "        # Convert specific columns to required types\n",
    "        data['fiscal_year'] = pd.to_numeric(data['fiscal_year'], errors='coerce')\n",
    "        data['fiscal_period'] = data['fiscal_period'].astype('category')\n",
    "        data['start_date'] = pd.to_datetime(data['start_date'], errors='coerce')\n",
    "        data['end_date'] = pd.to_datetime(data['end_date'], errors='coerce')\n",
    "        \n",
    "        \n",
    "    def preprocess_financials(self):\n",
    "        \"\"\"Orchestrates the entire pre-processing of financials.\"\"\"\n",
    "        self.flatten_json_section()  \n",
    "        self.removing_cols() \n",
    "        \n",
    "        # Step 3: Create multi-indexed DataFrame for each ticker\n",
    "        processed_data = {}\n",
    "        \n",
    "        for ticker in self.tickers:\n",
    "            data = self.data[ticker]\n",
    "            \n",
    "            # Extract general columns from the data\n",
    "            general_df = data[GENERAL_COLUMNS].copy()\n",
    "\n",
    "            # If 'filing_date' is not already an index, set it as the index in general_df\n",
    "            if 'filing_date' in general_df.columns:\n",
    "                general_df.set_index('filing_date', inplace=True)\n",
    "            \n",
    "            # Proccessing each section\n",
    "            section_dataframes = []\n",
    "            \n",
    "           \n",
    "            for section in self.sections:\n",
    "                # Filter columns related to the current section\n",
    "                section_columns = [col for col in data.columns if section in col]\n",
    "                section_df = data[['filing_date'] + section_columns].copy()  # Ensure 'filing_date' is included\n",
    "\n",
    "                # Set 'filing_date' as the index for the section to align it properly\n",
    "                section_df.set_index('filing_date', inplace=True)\n",
    "\n",
    "                # Removing '.value' suffix from the column names\n",
    "                section_df.columns = section_df.columns.str.replace('.value', '', regex=False)\n",
    "\n",
    "                # Removing the section name from the second-level column names\n",
    "                section_df.columns = pd.MultiIndex.from_product(\n",
    "                    [[section], section_df.columns.str.replace(f'{section}_', '', regex=False)]\n",
    "                )\n",
    "\n",
    "                # Add this section DataFrame to the list\n",
    "                section_dataframes.append(section_df)\n",
    "            \n",
    "            # Concatenate all section DataFrames into one DataFrame (financial data)\n",
    "            financial_data = pd.concat(section_dataframes, axis=1)\n",
    "\n",
    "            # Concatenate general_df (with general columns) and financial_data (with sections)\n",
    "            full_data = pd.concat([general_df, financial_data], axis=1)\n",
    "\n",
    "            # Store the processed DataFrame\n",
    "            processed_data[ticker] = full_data\n",
    "            \n",
    "        combined_data = pd.concat(processed_data.values(), keys=processed_data.keys(), names=['ticker'])\n",
    "        self.transform_columns(combined_data)\n",
    "        \n",
    "        \n",
    "        return processed_data, combined_data"
   ]
  },
  {
   "cell_type": "code",
   "execution_count": 10,
   "metadata": {},
   "outputs": [],
   "source": [
    "class CalculateMetrics:\n",
    "    \n",
    "    def __init__(self, data):\n",
    "        \"\"\" data is a dataframe with tickers as index.\"\"\"\n",
    "        self.data = data\n",
    "        \n",
    "    def profitability_ratios(self):\n",
    "        \"\"\"Calculates profitability ratios.\"\"\"\n",
    "        # data = self.self.data.copy()\n",
    "        \n",
    "        # Gross Margin\n",
    "        self.data['gross_margin'] = self.data[('income_statement', 'gross_profit')] / self.data[('income_statement', 'revenues')]\n",
    "        \n",
    "        # Operating Margin\n",
    "        self.data['operating_margin'] = self.data[('income_statement', 'operating_income_loss')] / self.data[('income_statement', 'revenues')]\n",
    "        \n",
    "        # Net Profit Margin\n",
    "        self.data['net_profit_margin'] = self.data[('income_statement', 'net_income_loss')] / self.data[('income_statement', 'revenues')]\n",
    "        \n",
    "        #ROA\n",
    "        self.data['ROA'] = self.data[('income_statement', 'net_income_loss')] / self.data[('balance_sheet', 'assets')]\n",
    "        \n",
    "        #ROE\n",
    "        self.data['ROE'] = self.data[('income_statement', 'net_income_loss')] / self.data[('balance_sheet', 'equity')]\n",
    "        \n",
    "        return self.data\n",
    "    \n",
    "    def liquidity_ratios(self):\n",
    "        \"\"\" Calculates liquidity ratios.\"\"\"\n",
    "        # data = self.self.data.copy()\n",
    "\n",
    "        #Current Ratio\n",
    "        self.data['current_ratio'] = self.data[('balance_sheet', 'current_assets')] / self.data[('balance_sheet', 'current_liabilities')]\n",
    "        \n",
    "        #Quick Ratio\n",
    "        self.data['quick_ratio'] = (self.data[('balance_sheet', 'current_assets')] - self.data[('balance_sheet', 'inventory')]) / self.data[('balance_sheet', 'current_liabilities')]\n",
    "        \n",
    "    \n",
    "    def other_ratios(self):\n",
    "        \"\"\"Calculates other ratios.\"\"\"\n",
    "        # data = self.self.data.copy()\n",
    "        \n",
    "        #Debt to Equity\n",
    "        self.data['debt_to_equity'] = self.data[('balance_sheet', 'liabilities')] / self.data[('balance_sheet', 'equity')]\n",
    "        \n",
    "        #Interest Coverage\n",
    "        self.data['interest_coverage'] = self.data[('income_statement', 'operating_income_loss')] / self.data[('income_statement', 'interest_expense_operating')]\n",
    "        self.data['R&D_ratio'] = self.data[('income_statement', 'research_and_development')] / self.data[('income_statement', 'revenues')]\n",
    "        \n",
    "        return self.data\n",
    "    \n",
    "    def calculate_metrics(self):\n",
    "        \"\"\"Orchestrates the calculation of financial metrics.\"\"\"\n",
    "        self.profitability_ratios()\n",
    "        self.liquidity_ratios()\n",
    "        self.other_ratios()\n",
    "        \n",
    "        return self.data\n",
    "        "
   ]
  },
  {
   "cell_type": "code",
   "execution_count": null,
   "metadata": {},
   "outputs": [],
   "source": [
    "class FinancialPlots:\n",
    "    \"\"\"This class plots financial metrics for different tickers.\n",
    "    It can also combine some tickers in the same plot or you can plot according to their industry\"\"\"\n",
    "    \n",
    "    def __init__(self, data):\n",
    "        \"\"\"args\n",
    "        data: dataframe combining multiple tickers\"\"\"\n",
    "    \n",
    "    \n",
    "    \n",
    "    def create_period(row):\n",
    "        if row['fiscal_period'] in ['Q1', 'Q2', 'Q3', 'Q4']:\n",
    "            quarter = int(row['fiscal_period'].replace('Q', ''))\n",
    "            year = int(row['fiscal_year'])\n",
    "            # Create a Period object\n",
    "            return pd.Period(freq='Q', year=year, quarter=quarter)\n",
    "        else:\n",
    "            return np.nan\n",
    "\n",
    "        "
   ]
  },
  {
   "cell_type": "code",
   "execution_count": 11,
   "metadata": {},
   "outputs": [],
   "source": [
    "#Fetching data from our SQL database\n",
    "\n",
    "fetch_data = DataFetcher(tickers)\n",
    "company_data = fetch_data.get_company_data()"
   ]
  },
  {
   "cell_type": "code",
   "execution_count": 12,
   "metadata": {},
   "outputs": [],
   "source": [
    "#Pre Processing the data\n",
    "\n",
    "prepocess = PreProcessingFinancials(company_data, SECTIONS, tickers)\n",
    "data_dict, df = prepocess.preprocess_financials()"
   ]
  },
  {
   "cell_type": "code",
   "execution_count": 13,
   "metadata": {},
   "outputs": [],
   "source": [
    "#Calculating Financial ratios\n",
    "\n",
    "metrics = CalculateMetrics(df)\n",
    "final_data = metrics.calculate_metrics()"
   ]
  },
  {
   "cell_type": "code",
   "execution_count": 28,
   "metadata": {},
   "outputs": [
    {
     "data": {
      "text/plain": [
       "array(['ttm', 'quarterly', 'annual'], dtype=object)"
      ]
     },
     "execution_count": 28,
     "metadata": {},
     "output_type": "execute_result"
    }
   ],
   "source": [
    "final_data.xs('AAPL', level='ticker')['timeframe'].unique()"
   ]
  },
  {
   "cell_type": "code",
   "execution_count": null,
   "metadata": {},
   "outputs": [],
   "source": [
    "def create_period(row):\n",
    "    if row['fiscal_period'] in ['Q1', 'Q2', 'Q3', 'Q4']:\n",
    "        quarter = int(row['fiscal_period'].replace('Q', ''))\n",
    "        year = int(row['fiscal_year'])\n",
    "        # Create a Period object\n",
    "        return pd.Period(freq='Q', year=year, quarter=quarter)\n",
    "    else:\n",
    "        return np.nan\n"
   ]
  },
  {
   "cell_type": "code",
   "execution_count": null,
   "metadata": {},
   "outputs": [],
   "source": [
    "quarterly_df = final_data[final_data['fiscal_period'].isin(['Q1', 'Q2', 'Q3', 'Q4'])].copy()"
   ]
  },
  {
   "cell_type": "code",
   "execution_count": null,
   "metadata": {},
   "outputs": [],
   "source": [
    "quarterly_df['period'] = quarterly_df.apply(create_period, axis=1)"
   ]
  },
  {
   "cell_type": "code",
   "execution_count": null,
   "metadata": {},
   "outputs": [],
   "source": [
    "quarterly_df['period'] = pd.PeriodIndex(quarterly_df['period'], freq='Q')"
   ]
  },
  {
   "cell_type": "code",
   "execution_count": null,
   "metadata": {},
   "outputs": [],
   "source": [
    "quarterly_df"
   ]
  },
  {
   "cell_type": "code",
   "execution_count": null,
   "metadata": {},
   "outputs": [],
   "source": [
    "aapl_df = quarterly_df.xs('AAPL', level='ticker').copy()"
   ]
  },
  {
   "cell_type": "code",
   "execution_count": null,
   "metadata": {},
   "outputs": [],
   "source": [
    "aapl_df = aapl_df.sort_values(by='period')\n",
    "\n",
    "# Plot the data\n",
    "plt.figure(figsize=(15, 6))\n",
    "plt.bar(aapl_df['period'].astype(str), aapl_df['ROE']) \n",
    "plt.title('Financial Data by Quarter')\n",
    "plt.xlabel('Quarter')\n",
    "plt.ylabel('Value')\n",
    "plt.xticks(rotation=90, ha='center') \n",
    "plt.grid(True)\n",
    "plt.tight_layout() \n",
    "plt.show()"
   ]
  },
  {
   "cell_type": "code",
   "execution_count": null,
   "metadata": {},
   "outputs": [],
   "source": [
    "final_data['period'] = final_data.apply(create_period, axis=1)"
   ]
  },
  {
   "cell_type": "code",
   "execution_count": null,
   "metadata": {},
   "outputs": [],
   "source": [
    "quarterly_df = final_data[(final_data['fiscal_period'] != 'TTM') & (final_data['fiscal_period'] != 'FY')]\n"
   ]
  },
  {
   "cell_type": "code",
   "execution_count": null,
   "metadata": {},
   "outputs": [],
   "source": [
    "df[('cash_flow_statement', 'net_cash_flow_from_operating_activities_continuing')]"
   ]
  },
  {
   "cell_type": "code",
   "execution_count": null,
   "metadata": {},
   "outputs": [],
   "source": [
    "#plots \n",
    "\n",
    "df[('income_statement', 'research_and_development')] #plotting R&D expenses\n",
    "df[('income_statement', 'revenues')] # plotting revenues"
   ]
  },
  {
   "cell_type": "code",
   "execution_count": null,
   "metadata": {},
   "outputs": [],
   "source": [
    "df['balance_sheet', 'equity']"
   ]
  },
  {
   "cell_type": "markdown",
   "metadata": {},
   "source": []
  }
 ],
 "metadata": {
  "kernelspec": {
   "display_name": "base",
   "language": "python",
   "name": "python3"
  },
  "language_info": {
   "codemirror_mode": {
    "name": "ipython",
    "version": 3
   },
   "file_extension": ".py",
   "mimetype": "text/x-python",
   "name": "python",
   "nbconvert_exporter": "python",
   "pygments_lexer": "ipython3",
   "version": "3.11.7"
  }
 },
 "nbformat": 4,
 "nbformat_minor": 2
}
